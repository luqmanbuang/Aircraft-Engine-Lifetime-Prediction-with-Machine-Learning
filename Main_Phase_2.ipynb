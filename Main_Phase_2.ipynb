{
  "nbformat": 4,
  "nbformat_minor": 0,
  "metadata": {
    "colab": {
      "name": "Main_Phase 2.ipynb",
      "provenance": [],
      "collapsed_sections": [],
      "authorship_tag": "ABX9TyNDM3INNa0PgR1hEKelra3m",
      "include_colab_link": true
    },
    "kernelspec": {
      "name": "python3",
      "display_name": "Python 3"
    }
  },
  "cells": [
    {
      "cell_type": "markdown",
      "metadata": {
        "id": "view-in-github",
        "colab_type": "text"
      },
      "source": [
        "<a href=\"https://colab.research.google.com/github/luqmanbuang/Capstone/blob/master/Main_Phase_2.ipynb\" target=\"_parent\"><img src=\"https://colab.research.google.com/assets/colab-badge.svg\" alt=\"Open In Colab\"/></a>"
      ]
    },
    {
      "cell_type": "code",
      "metadata": {
        "id": "h0g8odVvjNyy",
        "outputId": "3aa50b06-947b-486c-ad2f-559d01e76691",
        "colab": {
          "base_uri": "https://localhost:8080/",
          "height": 35
        }
      },
      "source": [
        "from google.colab import drive\n",
        "drive.mount(\"/content/gdrive\")"
      ],
      "execution_count": 1,
      "outputs": [
        {
          "output_type": "stream",
          "text": [
            "Drive already mounted at /content/gdrive; to attempt to forcibly remount, call drive.mount(\"/content/gdrive\", force_remount=True).\n"
          ],
          "name": "stdout"
        }
      ]
    },
    {
      "cell_type": "code",
      "metadata": {
        "id": "Z9ccylSqqrf6"
      },
      "source": [
        "import warnings \n",
        "warnings.filterwarnings('ignore')"
      ],
      "execution_count": 2,
      "outputs": []
    },
    {
      "cell_type": "code",
      "metadata": {
        "id": "hLmKeK4fjGas"
      },
      "source": [
        "import matplotlib.pyplot as plt\n",
        "import pandas as pd\n",
        "\n",
        "#Importing both test and train datasets\n",
        "df_test_FD001 = pd.read_csv('/content/gdrive/My Drive/Capstone/test_FD001.txt', sep=' ', header=None)\n",
        "df_train_FD001 = pd.read_csv('/content/gdrive/My Drive/Capstone/train_FD001.txt', sep=' ', header=None)\n",
        "\n",
        "\n",
        "# dropping NAN values\n",
        "df_test_FD001 = df_test_FD001.dropna(axis=1, how='all')\n",
        "df_train_FD001 = df_train_FD001.dropna(axis=1, how='all')\n",
        "\n",
        "# Naming the columns\n",
        "df_test_FD001.columns = [\"unit\", \"cycles\", \"Op1\",\n",
        "                      \"Op2\", \"Op3\", \"S1\", \"S2\",\n",
        "                      \"S3\", \"S4\", \"S5\", \"S6\", \"S7\", \"S8\", \"S9\", \"S10\", \"S11\",\n",
        "                      \"S12\", \"S13\", \"S14\", \"S15\", \"S16\", \"S17\", \"S18\", \"S19\", \"S20\", \"S21\"]\n",
        "\n",
        "df_train_FD001.columns = [\"unit\", \"cycles\", \"Op1\",\n",
        "                      \"Op2\", \"Op3\", \"S1\", \"S2\",\n",
        "                      \"S3\", \"S4\", \"S5\", \"S6\", \"S7\", \"S8\", \"S9\", \"S10\", \"S11\",\n",
        "                      \"S12\", \"S13\", \"S14\", \"S15\", \"S16\", \"S17\", \"S18\", \"S19\", \"S20\", \"S21\"]\n",
        "\n",
        "# data preprocessing; removing unnecessary data\n",
        "df_test_FD001.drop(['Op3','S1', 'S5', 'S6', 'S16', 'S10', 'S18', 'S19'], axis=1, inplace=True)\n",
        "df_train_FD001.drop(['Op3','S1', 'S5', 'S6', 'S16', 'S10', 'S18', 'S19'], axis=1, inplace=True)\n",
        "\n",
        "# test dataset begins with unit 101 to differentiate from the train dataset\n",
        "df_test_FD001['unit'] += 100\n"
      ],
      "execution_count": 3,
      "outputs": []
    },
    {
      "cell_type": "code",
      "metadata": {
        "id": "LZnCAYpmv82J"
      },
      "source": [
        "# Combine the two datasets into a single dataframe\n",
        "df_combined = pd.concat([df_train_FD001, df_test_FD001]) \n",
        "\n",
        "from sklearn.preprocessing import MinMaxScaler\n",
        "\n",
        "# Perform scalling on the the combined dataset so that their scale is the same\n",
        "scaler = MinMaxScaler()\n",
        "df_combined.iloc[:,2:18] = scaler.fit_transform(df_combined.iloc[:,2:18])"
      ],
      "execution_count": 4,
      "outputs": []
    },
    {
      "cell_type": "code",
      "metadata": {
        "id": "M1sIeH4m4sFG"
      },
      "source": [
        "# Split them again after performing scalling\n",
        "df_train_FD001 = df_combined[(df_combined.unit <= 100)]\n",
        "df_test_FD001 = df_combined[(df_combined.unit >= 101)]\n",
        "\n",
        "# After separation, the first unit of the test dataset is reset to 0 again\n",
        "df_test_FD001['unit'] -= 100"
      ],
      "execution_count": 5,
      "outputs": []
    },
    {
      "cell_type": "code",
      "metadata": {
        "id": "8AaJ_So2GG-G"
      },
      "source": [
        "# Finding the maximum cycle of an engine unit which is used to find its Remaining Useful Life (RUL)\n",
        "df_train_FD001 = pd.merge(df_train_FD001, df_train_FD001.groupby('unit', as_index=False)['cycles'].max(), how='left', on='unit')\n",
        "df_train_FD001.rename(columns={\"cycles_x\": \"cycles\", \"cycles_y\": \"Total Cycles\"}, inplace=True)\n",
        "\n",
        "df_train_FD001['RUL'] = df_train_FD001['Total Cycles'] - df_train_FD001['cycles']\n",
        "\n",
        "# Defining the Health Index, where value of 1 denotes healthy engine and 0 denotes failure\n",
        "def fractionTTF(dat,q):\n",
        "    return(dat.RUL[q]-dat.RUL.min()) / (dat.RUL.max()-dat.RUL.min())\n",
        "\n",
        "fTTFz = []\n",
        "fTTF = []\n",
        "\n",
        "for i in range(df_train_FD001['unit'].min(),df_train_FD001['unit'].max()+1):\n",
        "    dat=df_train_FD001[df_train_FD001.unit==i]\n",
        "    dat = dat.reset_index(drop=True)\n",
        "    for q in range(len(dat)):\n",
        "        fTTFz = fractionTTF(dat, q)\n",
        "        fTTF.append(fTTFz)\n",
        "\n",
        "df_train_FD001['Health Index'] = fTTF\n"
      ],
      "execution_count": 6,
      "outputs": []
    },
    {
      "cell_type": "code",
      "metadata": {
        "id": "IeYJ9C9I_YVC"
      },
      "source": [
        "# Defining train values that will be used to train the machine learning model\n",
        "X_train = df_train_FD001[['cycles', 'Op1', 'Op2', 'S2', 'S3', 'S4', 'S7', 'S8', 'S9', 'S11', 'S12',\n",
        "          'S13', 'S14', 'S15', 'S17', 'S20', 'S21']].values\n",
        "y_train = df_train_FD001[['Health Index']].values.ravel()\n",
        "\n",
        "# Defining test values that will be used to perform prediction based on the trained model\n",
        "X_test = df_test_FD001[['cycles', 'Op1', 'Op2', 'S2', 'S3', 'S4', 'S7', 'S8', 'S9', 'S11', 'S12',\n",
        "          'S13', 'S14', 'S15', 'S17', 'S20', 'S21']].values"
      ],
      "execution_count": 7,
      "outputs": []
    },
    {
      "cell_type": "code",
      "metadata": {
        "id": "q3fyiFRb-4ik",
        "outputId": "46964ba0-0c11-45d4-eca3-86d0db01b71d",
        "colab": {
          "base_uri": "https://localhost:8080/",
          "height": 1000
        }
      },
      "source": [
        "# Importing keras deep learning API into colab notebook\n",
        "from keras.models import Sequential\n",
        "from keras.layers.core import Dense, Activation\n",
        "from keras.wrappers.scikit_learn import KerasRegressor\n",
        "\n",
        "# Defining Neural Network model\n",
        "model = Sequential()\n",
        "model.add(Dense(50, input_dim=17, kernel_initializer='normal', activation='relu'))\n",
        "model.add(Dense(1, kernel_initializer='normal'))\n",
        "model.compile(loss='mean_squared_error', optimizer='adam')\n",
        "\n",
        "# Training the Neural Network model\n",
        "model.fit(X_train, y_train, epochs = 50)"
      ],
      "execution_count": 8,
      "outputs": [
        {
          "output_type": "stream",
          "text": [
            "Epoch 1/50\n",
            "645/645 [==============================] - 0s 580us/step - loss: 0.0343\n",
            "Epoch 2/50\n",
            "645/645 [==============================] - 0s 568us/step - loss: 0.0061\n",
            "Epoch 3/50\n",
            "645/645 [==============================] - 0s 570us/step - loss: 0.0059\n",
            "Epoch 4/50\n",
            "645/645 [==============================] - 0s 562us/step - loss: 0.0056\n",
            "Epoch 5/50\n",
            "645/645 [==============================] - 0s 569us/step - loss: 0.0057\n",
            "Epoch 6/50\n",
            "645/645 [==============================] - 0s 579us/step - loss: 0.0053\n",
            "Epoch 7/50\n",
            "645/645 [==============================] - 0s 575us/step - loss: 0.0053\n",
            "Epoch 8/50\n",
            "645/645 [==============================] - 0s 572us/step - loss: 0.0051\n",
            "Epoch 9/50\n",
            "645/645 [==============================] - 0s 568us/step - loss: 0.0050\n",
            "Epoch 10/50\n",
            "645/645 [==============================] - 0s 571us/step - loss: 0.0050\n",
            "Epoch 11/50\n",
            "645/645 [==============================] - 0s 580us/step - loss: 0.0050\n",
            "Epoch 12/50\n",
            "645/645 [==============================] - 0s 556us/step - loss: 0.0049\n",
            "Epoch 13/50\n",
            "645/645 [==============================] - 0s 561us/step - loss: 0.0048\n",
            "Epoch 14/50\n",
            "645/645 [==============================] - 0s 572us/step - loss: 0.0048\n",
            "Epoch 15/50\n",
            "645/645 [==============================] - 0s 562us/step - loss: 0.0046\n",
            "Epoch 16/50\n",
            "645/645 [==============================] - 0s 579us/step - loss: 0.0046\n",
            "Epoch 17/50\n",
            "645/645 [==============================] - 0s 581us/step - loss: 0.0048\n",
            "Epoch 18/50\n",
            "645/645 [==============================] - 0s 577us/step - loss: 0.0045\n",
            "Epoch 19/50\n",
            "645/645 [==============================] - 0s 566us/step - loss: 0.0045\n",
            "Epoch 20/50\n",
            "645/645 [==============================] - 0s 575us/step - loss: 0.0044\n",
            "Epoch 21/50\n",
            "645/645 [==============================] - 0s 570us/step - loss: 0.0045\n",
            "Epoch 22/50\n",
            "645/645 [==============================] - 0s 594us/step - loss: 0.0044\n",
            "Epoch 23/50\n",
            "645/645 [==============================] - 0s 578us/step - loss: 0.0043\n",
            "Epoch 24/50\n",
            "645/645 [==============================] - 0s 602us/step - loss: 0.0043\n",
            "Epoch 25/50\n",
            "645/645 [==============================] - 0s 573us/step - loss: 0.0043\n",
            "Epoch 26/50\n",
            "645/645 [==============================] - 0s 569us/step - loss: 0.0043\n",
            "Epoch 27/50\n",
            "645/645 [==============================] - 0s 586us/step - loss: 0.0042\n",
            "Epoch 28/50\n",
            "645/645 [==============================] - 0s 607us/step - loss: 0.0042\n",
            "Epoch 29/50\n",
            "645/645 [==============================] - 0s 562us/step - loss: 0.0041\n",
            "Epoch 30/50\n",
            "645/645 [==============================] - 0s 577us/step - loss: 0.0042\n",
            "Epoch 31/50\n",
            "645/645 [==============================] - 0s 566us/step - loss: 0.0041\n",
            "Epoch 32/50\n",
            "645/645 [==============================] - 0s 600us/step - loss: 0.0041\n",
            "Epoch 33/50\n",
            "645/645 [==============================] - 0s 592us/step - loss: 0.0041\n",
            "Epoch 34/50\n",
            "645/645 [==============================] - 0s 571us/step - loss: 0.0042\n",
            "Epoch 35/50\n",
            "645/645 [==============================] - 0s 580us/step - loss: 0.0041\n",
            "Epoch 36/50\n",
            "645/645 [==============================] - 0s 574us/step - loss: 0.0041\n",
            "Epoch 37/50\n",
            "645/645 [==============================] - 0s 563us/step - loss: 0.0041\n",
            "Epoch 38/50\n",
            "645/645 [==============================] - 0s 599us/step - loss: 0.0040\n",
            "Epoch 39/50\n",
            "645/645 [==============================] - 0s 573us/step - loss: 0.0041\n",
            "Epoch 40/50\n",
            "645/645 [==============================] - 0s 581us/step - loss: 0.0041\n",
            "Epoch 41/50\n",
            "645/645 [==============================] - 0s 573us/step - loss: 0.0041\n",
            "Epoch 42/50\n",
            "645/645 [==============================] - 0s 564us/step - loss: 0.0040\n",
            "Epoch 43/50\n",
            "645/645 [==============================] - 0s 569us/step - loss: 0.0040\n",
            "Epoch 44/50\n",
            "645/645 [==============================] - 0s 595us/step - loss: 0.0040\n",
            "Epoch 45/50\n",
            "645/645 [==============================] - 0s 584us/step - loss: 0.0041\n",
            "Epoch 46/50\n",
            "645/645 [==============================] - 0s 580us/step - loss: 0.0040\n",
            "Epoch 47/50\n",
            "645/645 [==============================] - 0s 589us/step - loss: 0.0041\n",
            "Epoch 48/50\n",
            "645/645 [==============================] - 0s 558us/step - loss: 0.0040\n",
            "Epoch 49/50\n",
            "645/645 [==============================] - 0s 580us/step - loss: 0.0040\n",
            "Epoch 50/50\n",
            "645/645 [==============================] - 0s 567us/step - loss: 0.0039\n"
          ],
          "name": "stdout"
        },
        {
          "output_type": "execute_result",
          "data": {
            "text/plain": [
              "<tensorflow.python.keras.callbacks.History at 0x7fe8bf055fd0>"
            ]
          },
          "metadata": {
            "tags": []
          },
          "execution_count": 8
        }
      ]
    },
    {
      "cell_type": "code",
      "metadata": {
        "id": "UgD3Oxr9B9MW"
      },
      "source": [
        "# Perform prediction of Health Index values based on the trained model\n",
        "score = model.predict(X_test) \n",
        "df_test_FD001['Predicted H.I.'] = score\n",
        "\n",
        "# df_test_FD001"
      ],
      "execution_count": 9,
      "outputs": []
    },
    {
      "cell_type": "code",
      "metadata": {
        "id": "v4_JOTqFCKNx"
      },
      "source": [
        "# Calculating the predicted maximum cycle of the engine units\n",
        "def totcycles(data):\n",
        "    return(data['cycles'] / (1-data['Predicted H.I.']))\n",
        "    \n",
        "df_test_FD001['MaxPredCycles'] = totcycles(df_test_FD001)\n",
        "\n",
        "# df_test_FD001"
      ],
      "execution_count": 10,
      "outputs": []
    },
    {
      "cell_type": "code",
      "metadata": {
        "id": "cLE1XDDaEh69",
        "outputId": "80ef3cca-2501-492f-baa7-778704fe3ba0",
        "colab": {
          "base_uri": "https://localhost:8080/",
          "height": 501
        }
      },
      "source": [
        "# Visualizing the predicted maximum cycles throughout each row of specified engine.\n",
        "# It is observed that the extreme values are found in the beginning of the engine unit cycle.\n",
        "# Ideal situation is that the predicted maximum cycles are uniform throughout the cycles.\n",
        " \n",
        "plt.figure(figsize = (16, 8)) \n",
        "plt.plot(df_test_FD001.MaxPredCycles[(df_test_FD001['cycles'] >0) & (df_test_FD001['unit']==67)])"
      ],
      "execution_count": 11,
      "outputs": [
        {
          "output_type": "execute_result",
          "data": {
            "text/plain": [
              "[<matplotlib.lines.Line2D at 0x7fe8bc145358>]"
            ]
          },
          "metadata": {
            "tags": []
          },
          "execution_count": 11
        },
        {
          "output_type": "display_data",
          "data": {
            "image/png": "[encoded data removed]",
            "text/plain": [
              "<Figure size 1152x576 with 1 Axes>"
            ]
          },
          "metadata": {
            "tags": [],
            "needs_background": "light"
          }
        }
      ]
    },
    {
      "cell_type": "code",
      "metadata": {
        "id": "LxVtW-M1JRlQ",
        "outputId": "64944d52-ed06-4a61-a642-e31078d71473",
        "colab": {
          "base_uri": "https://localhost:8080/",
          "height": 35
        }
      },
      "source": [
        "# Quick line that returns the average maximum cycle value of a particular engine unit \n",
        "# The values of the first 10 cycles are ignored to recieve more accurate results\n",
        "df_test_FD001.MaxPredCycles[(df_test_FD001['cycles'] >10) & (df_test_FD001['unit']==80)].mean()"
      ],
      "execution_count": 12,
      "outputs": [
        {
          "output_type": "execute_result",
          "data": {
            "text/plain": [
              "197.40687561035156"
            ]
          },
          "metadata": {
            "tags": []
          },
          "execution_count": 12
        }
      ]
    },
    {
      "cell_type": "code",
      "metadata": {
        "id": "auYt6QwjLC9e"
      },
      "source": [
        "# Returns a uniform calculated average value throughout the engine cycle \n",
        "for i in range(df_test_FD001['unit'].min(),df_test_FD001['unit'].max()+1):\n",
        "   df_test_FD001.MaxPredCycles[(df_test_FD001['unit'] == i)] = df_test_FD001.MaxPredCycles[(df_test_FD001['cycles'] >10) & (df_test_FD001['unit']==i)].mean()"
      ],
      "execution_count": 13,
      "outputs": []
    },
    {
      "cell_type": "code",
      "metadata": {
        "id": "WdXlRrfzETCn"
      },
      "source": [
        "# Calculating the predicted Cycles to Failure of the test dataset\n",
        "df_test_FD001['Pred_RUL'] = df_test_FD001.MaxPredCycles * (df_test_FD001['Predicted H.I.'])\n",
        "\n",
        "# df_test_FD001"
      ],
      "execution_count": 14,
      "outputs": []
    },
    {
      "cell_type": "code",
      "metadata": {
        "id": "LAzAQ-jXNwrA",
        "outputId": "92f8f00b-a16a-4809-a2d8-dec176baec55",
        "colab": {
          "base_uri": "https://localhost:8080/",
          "height": 501
        }
      },
      "source": [
        "# Visualizing the predicted cycles of the engine units in the test dataset.\n",
        "# x-axis represents the cycles \n",
        "plt.figure(figsize = (16, 8)) \n",
        "plt.plot(df_test_FD001.Pred_RUL)"
      ],
      "execution_count": 15,
      "outputs": [
        {
          "output_type": "execute_result",
          "data": {
            "text/plain": [
              "[<matplotlib.lines.Line2D at 0x7fe8bc1349b0>]"
            ]
          },
          "metadata": {
            "tags": []
          },
          "execution_count": 15
        },
        {
          "output_type": "display_data",
          "data": {
            "image/png": "[encoded data removed]",
            "text/plain": [
              "<Figure size 1152x576 with 1 Axes>"
            ]
          },
          "metadata": {
            "tags": [],
            "needs_background": "light"
          }
        }
      ]
    },
    {
      "cell_type": "code",
      "metadata": {
        "id": "GzFmMTQsOTq0",
        "outputId": "c478f47a-3773-40bc-bf7e-cd769394e752",
        "colab": {
          "base_uri": "https://localhost:8080/",
          "height": 35
        }
      },
      "source": [
        "# Returning the Remaining useful life of an engine unit of the test dataset.\n",
        "# It is found by returning the minumum cycle to failure value of each engine unit\n",
        "df_test_FD001.Pred_RUL[(df_test_FD001['unit']==94)].min()"
      ],
      "execution_count": 16,
      "outputs": [
        {
          "output_type": "execute_result",
          "data": {
            "text/plain": [
              "47.01124954223633"
            ]
          },
          "metadata": {
            "tags": []
          },
          "execution_count": 16
        }
      ]
    },
    {
      "cell_type": "code",
      "metadata": {
        "id": "HjigJBbBm2mD",
        "outputId": "e26d7874-e406-447a-a180-dcc743d7d012",
        "colab": {
          "base_uri": "https://localhost:8080/",
          "height": 35
        }
      },
      "source": [
        "# Appending the RUL values of each engine unit into an array\n",
        "maxpred = []\n",
        "for i in range(1,101):\n",
        "  maxpred.append(df_test_FD001.Pred_RUL[(df_test_FD001['unit']==i)].min()) \n",
        "\n",
        "len(maxpred)"
      ],
      "execution_count": 17,
      "outputs": [
        {
          "output_type": "execute_result",
          "data": {
            "text/plain": [
              "100"
            ]
          },
          "metadata": {
            "tags": []
          },
          "execution_count": 17
        }
      ]
    },
    {
      "cell_type": "code",
      "metadata": {
        "id": "7gwGIZu3Pdmp"
      },
      "source": [
        "# Importing the actual RUL values from google drive\n",
        "Results = pd.read_csv('/content/gdrive/My Drive/Capstone/RUL_FD001.txt', sep=' ', header=None)\n",
        "Results = Results.dropna(axis=1, how='all')\n",
        "Results.columns = [\"Actual RUL\"]"
      ],
      "execution_count": 18,
      "outputs": []
    },
    {
      "cell_type": "code",
      "metadata": {
        "id": "Dj013Hnr8aEX",
        "outputId": "239e9333-afe9-40e5-b31f-8236463802b8",
        "colab": {
          "base_uri": "https://localhost:8080/",
          "height": 446
        }
      },
      "source": [
        "# Combining the Actual RUL values, predicted RUL values and computed difference between the two\n",
        "Results = Results.assign(unit=[1 + i for i in range(len(Results))])[['unit'] + Results.columns.tolist()]\n",
        "Results['Predicted RUL'] = maxpred\n",
        "Results['Difference'] = Results['Actual RUL'] - Results['Predicted RUL']\n",
        "Results.reset_index()\n",
        "Results.set_index('unit')"
      ],
      "execution_count": 19,
      "outputs": [
        {
          "output_type": "execute_result",
          "data": {
            "text/html": [
              "<div>\n",
              "<style scoped>\n",
              "    .dataframe tbody tr th:only-of-type {\n",
              "        vertical-align: middle;\n",
              "    }\n",
              "\n",
              "    .dataframe tbody tr th {\n",
              "        vertical-align: top;\n",
              "    }\n",
              "\n",
              "    .dataframe thead th {\n",
              "        text-align: right;\n",
              "    }\n",
              "</style>\n",
              "<table border=\"1\" class=\"dataframe\">\n",
              "  <thead>\n",
              "    <tr style=\"text-align: right;\">\n",
              "      <th></th>\n",
              "      <th>Actual RUL</th>\n",
              "      <th>Predicted RUL</th>\n",
              "      <th>Difference</th>\n",
              "    </tr>\n",
              "    <tr>\n",
              "      <th>unit</th>\n",
              "      <th></th>\n",
              "      <th></th>\n",
              "      <th></th>\n",
              "    </tr>\n",
              "  </thead>\n",
              "  <tbody>\n",
              "    <tr>\n",
              "      <th>1</th>\n",
              "      <td>112</td>\n",
              "      <td>186.249466</td>\n",
              "      <td>-74.249466</td>\n",
              "    </tr>\n",
              "    <tr>\n",
              "      <th>2</th>\n",
              "      <td>98</td>\n",
              "      <td>153.696915</td>\n",
              "      <td>-55.696915</td>\n",
              "    </tr>\n",
              "    <tr>\n",
              "      <th>3</th>\n",
              "      <td>69</td>\n",
              "      <td>55.485489</td>\n",
              "      <td>13.514511</td>\n",
              "    </tr>\n",
              "    <tr>\n",
              "      <th>4</th>\n",
              "      <td>82</td>\n",
              "      <td>80.160446</td>\n",
              "      <td>1.839554</td>\n",
              "    </tr>\n",
              "    <tr>\n",
              "      <th>5</th>\n",
              "      <td>91</td>\n",
              "      <td>90.752365</td>\n",
              "      <td>0.247635</td>\n",
              "    </tr>\n",
              "    <tr>\n",
              "      <th>...</th>\n",
              "      <td>...</td>\n",
              "      <td>...</td>\n",
              "      <td>...</td>\n",
              "    </tr>\n",
              "    <tr>\n",
              "      <th>96</th>\n",
              "      <td>137</td>\n",
              "      <td>114.070961</td>\n",
              "      <td>22.929039</td>\n",
              "    </tr>\n",
              "    <tr>\n",
              "      <th>97</th>\n",
              "      <td>82</td>\n",
              "      <td>74.561264</td>\n",
              "      <td>7.438736</td>\n",
              "    </tr>\n",
              "    <tr>\n",
              "      <th>98</th>\n",
              "      <td>59</td>\n",
              "      <td>69.306290</td>\n",
              "      <td>-10.306290</td>\n",
              "    </tr>\n",
              "    <tr>\n",
              "      <th>99</th>\n",
              "      <td>117</td>\n",
              "      <td>117.253654</td>\n",
              "      <td>-0.253654</td>\n",
              "    </tr>\n",
              "    <tr>\n",
              "      <th>100</th>\n",
              "      <td>20</td>\n",
              "      <td>27.085867</td>\n",
              "      <td>-7.085867</td>\n",
              "    </tr>\n",
              "  </tbody>\n",
              "</table>\n",
              "<p>100 rows × 3 columns</p>\n",
              "</div>"
            ],
            "text/plain": [
              "      Actual RUL  Predicted RUL  Difference\n",
              "unit                                       \n",
              "1            112     186.249466  -74.249466\n",
              "2             98     153.696915  -55.696915\n",
              "3             69      55.485489   13.514511\n",
              "4             82      80.160446    1.839554\n",
              "5             91      90.752365    0.247635\n",
              "...          ...            ...         ...\n",
              "96           137     114.070961   22.929039\n",
              "97            82      74.561264    7.438736\n",
              "98            59      69.306290  -10.306290\n",
              "99           117     117.253654   -0.253654\n",
              "100           20      27.085867   -7.085867\n",
              "\n",
              "[100 rows x 3 columns]"
            ]
          },
          "metadata": {
            "tags": []
          },
          "execution_count": 19
        }
      ]
    },
    {
      "cell_type": "code",
      "metadata": {
        "id": "4_MXfrdVsGFp",
        "outputId": "9b20cd79-7d6e-44b0-9f1c-5facb9ecbd1d",
        "colab": {
          "base_uri": "https://localhost:8080/",
          "height": 35
        }
      },
      "source": [
        "from sklearn.metrics import mean_squared_error, r2_score\n",
        "from math import sqrt\n",
        "\n",
        "# Calculating the Root Mean Square Error of the actual and predicted values\n",
        "RMSE = sqrt(mean_squared_error(Results['Actual RUL'], Results['Predicted RUL']))\n",
        "print(\"RMSE: \", RMSE)"
      ],
      "execution_count": 20,
      "outputs": [
        {
          "output_type": "stream",
          "text": [
            "RMSE:  26.58951363997244\n"
          ],
          "name": "stdout"
        }
      ]
    },
    {
      "cell_type": "code",
      "metadata": {
        "id": "tNXAuBbYLAtU",
        "outputId": "61ea7c1d-ba8d-4c10-e674-7f3e468ecfc1",
        "colab": {
          "base_uri": "https://localhost:8080/",
          "height": 415
        }
      },
      "source": [
        "df_test_FD001.drop(['Op1','Op2', 'Op2', 'S2', 'S3', 'S4', 'S7', 'S8', 'S9',\n",
        "                    'S11', 'S12', 'S13', 'S14', 'S15', 'S17', 'S20', 'S21'], axis=1, inplace=True)\n",
        "df_test_FD001"
      ],
      "execution_count": 21,
      "outputs": [
        {
          "output_type": "execute_result",
          "data": {
            "text/html": [
              "<div>\n",
              "<style scoped>\n",
              "    .dataframe tbody tr th:only-of-type {\n",
              "        vertical-align: middle;\n",
              "    }\n",
              "\n",
              "    .dataframe tbody tr th {\n",
              "        vertical-align: top;\n",
              "    }\n",
              "\n",
              "    .dataframe thead th {\n",
              "        text-align: right;\n",
              "    }\n",
              "</style>\n",
              "<table border=\"1\" class=\"dataframe\">\n",
              "  <thead>\n",
              "    <tr style=\"text-align: right;\">\n",
              "      <th></th>\n",
              "      <th>unit</th>\n",
              "      <th>cycles</th>\n",
              "      <th>Predicted H.I.</th>\n",
              "      <th>MaxPredCycles</th>\n",
              "      <th>Pred_RUL</th>\n",
              "    </tr>\n",
              "  </thead>\n",
              "  <tbody>\n",
              "    <tr>\n",
              "      <th>0</th>\n",
              "      <td>1</td>\n",
              "      <td>1</td>\n",
              "      <td>0.990525</td>\n",
              "      <td>218.652527</td>\n",
              "      <td>216.580841</td>\n",
              "    </tr>\n",
              "    <tr>\n",
              "      <th>1</th>\n",
              "      <td>1</td>\n",
              "      <td>2</td>\n",
              "      <td>0.991098</td>\n",
              "      <td>218.652527</td>\n",
              "      <td>216.706177</td>\n",
              "    </tr>\n",
              "    <tr>\n",
              "      <th>2</th>\n",
              "      <td>1</td>\n",
              "      <td>3</td>\n",
              "      <td>0.991621</td>\n",
              "      <td>218.652527</td>\n",
              "      <td>216.820480</td>\n",
              "    </tr>\n",
              "    <tr>\n",
              "      <th>3</th>\n",
              "      <td>1</td>\n",
              "      <td>4</td>\n",
              "      <td>0.977438</td>\n",
              "      <td>218.652527</td>\n",
              "      <td>213.719223</td>\n",
              "    </tr>\n",
              "    <tr>\n",
              "      <th>4</th>\n",
              "      <td>1</td>\n",
              "      <td>5</td>\n",
              "      <td>0.977929</td>\n",
              "      <td>218.652527</td>\n",
              "      <td>213.826645</td>\n",
              "    </tr>\n",
              "    <tr>\n",
              "      <th>...</th>\n",
              "      <td>...</td>\n",
              "      <td>...</td>\n",
              "      <td>...</td>\n",
              "      <td>...</td>\n",
              "      <td>...</td>\n",
              "    </tr>\n",
              "    <tr>\n",
              "      <th>13091</th>\n",
              "      <td>100</td>\n",
              "      <td>194</td>\n",
              "      <td>0.141260</td>\n",
              "      <td>224.181946</td>\n",
              "      <td>31.668009</td>\n",
              "    </tr>\n",
              "    <tr>\n",
              "      <th>13092</th>\n",
              "      <td>100</td>\n",
              "      <td>195</td>\n",
              "      <td>0.146674</td>\n",
              "      <td>224.181946</td>\n",
              "      <td>32.881771</td>\n",
              "    </tr>\n",
              "    <tr>\n",
              "      <th>13093</th>\n",
              "      <td>100</td>\n",
              "      <td>196</td>\n",
              "      <td>0.147569</td>\n",
              "      <td>224.181946</td>\n",
              "      <td>33.082207</td>\n",
              "    </tr>\n",
              "    <tr>\n",
              "      <th>13094</th>\n",
              "      <td>100</td>\n",
              "      <td>197</td>\n",
              "      <td>0.137699</td>\n",
              "      <td>224.181946</td>\n",
              "      <td>30.869711</td>\n",
              "    </tr>\n",
              "    <tr>\n",
              "      <th>13095</th>\n",
              "      <td>100</td>\n",
              "      <td>198</td>\n",
              "      <td>0.120821</td>\n",
              "      <td>224.181946</td>\n",
              "      <td>27.085867</td>\n",
              "    </tr>\n",
              "  </tbody>\n",
              "</table>\n",
              "<p>13096 rows × 5 columns</p>\n",
              "</div>"
            ],
            "text/plain": [
              "       unit  cycles  Predicted H.I.  MaxPredCycles    Pred_RUL\n",
              "0         1       1        0.990525     218.652527  216.580841\n",
              "1         1       2        0.991098     218.652527  216.706177\n",
              "2         1       3        0.991621     218.652527  216.820480\n",
              "3         1       4        0.977438     218.652527  213.719223\n",
              "4         1       5        0.977929     218.652527  213.826645\n",
              "...     ...     ...             ...            ...         ...\n",
              "13091   100     194        0.141260     224.181946   31.668009\n",
              "13092   100     195        0.146674     224.181946   32.881771\n",
              "13093   100     196        0.147569     224.181946   33.082207\n",
              "13094   100     197        0.137699     224.181946   30.869711\n",
              "13095   100     198        0.120821     224.181946   27.085867\n",
              "\n",
              "[13096 rows x 5 columns]"
            ]
          },
          "metadata": {
            "tags": []
          },
          "execution_count": 21
        }
      ]
    },
    {
      "cell_type": "code",
      "metadata": {
        "id": "B4aGGQ8ZNugC",
        "outputId": "d6bb860d-2612-4479-bf2b-b86e2c583afa",
        "colab": {
          "base_uri": "https://localhost:8080/",
          "height": 415
        }
      },
      "source": [
        "df_train_FD001.drop(['Op1','Op2', 'Op2', 'S2', 'S3', 'S4', 'S7', 'S8', 'S9',\n",
        "                     'S11', 'S12', 'S13', 'S14', 'S15', 'S17', 'S20', 'S21'], axis=1, inplace=True)\n",
        "df_train_FD001"
      ],
      "execution_count": 22,
      "outputs": [
        {
          "output_type": "execute_result",
          "data": {
            "text/html": [
              "<div>\n",
              "<style scoped>\n",
              "    .dataframe tbody tr th:only-of-type {\n",
              "        vertical-align: middle;\n",
              "    }\n",
              "\n",
              "    .dataframe tbody tr th {\n",
              "        vertical-align: top;\n",
              "    }\n",
              "\n",
              "    .dataframe thead th {\n",
              "        text-align: right;\n",
              "    }\n",
              "</style>\n",
              "<table border=\"1\" class=\"dataframe\">\n",
              "  <thead>\n",
              "    <tr style=\"text-align: right;\">\n",
              "      <th></th>\n",
              "      <th>unit</th>\n",
              "      <th>cycles</th>\n",
              "      <th>Total Cycles</th>\n",
              "      <th>RUL</th>\n",
              "      <th>Health Index</th>\n",
              "    </tr>\n",
              "  </thead>\n",
              "  <tbody>\n",
              "    <tr>\n",
              "      <th>0</th>\n",
              "      <td>1</td>\n",
              "      <td>1</td>\n",
              "      <td>192</td>\n",
              "      <td>191</td>\n",
              "      <td>1.000000</td>\n",
              "    </tr>\n",
              "    <tr>\n",
              "      <th>1</th>\n",
              "      <td>1</td>\n",
              "      <td>2</td>\n",
              "      <td>192</td>\n",
              "      <td>190</td>\n",
              "      <td>0.994764</td>\n",
              "    </tr>\n",
              "    <tr>\n",
              "      <th>2</th>\n",
              "      <td>1</td>\n",
              "      <td>3</td>\n",
              "      <td>192</td>\n",
              "      <td>189</td>\n",
              "      <td>0.989529</td>\n",
              "    </tr>\n",
              "    <tr>\n",
              "      <th>3</th>\n",
              "      <td>1</td>\n",
              "      <td>4</td>\n",
              "      <td>192</td>\n",
              "      <td>188</td>\n",
              "      <td>0.984293</td>\n",
              "    </tr>\n",
              "    <tr>\n",
              "      <th>4</th>\n",
              "      <td>1</td>\n",
              "      <td>5</td>\n",
              "      <td>192</td>\n",
              "      <td>187</td>\n",
              "      <td>0.979058</td>\n",
              "    </tr>\n",
              "    <tr>\n",
              "      <th>...</th>\n",
              "      <td>...</td>\n",
              "      <td>...</td>\n",
              "      <td>...</td>\n",
              "      <td>...</td>\n",
              "      <td>...</td>\n",
              "    </tr>\n",
              "    <tr>\n",
              "      <th>20626</th>\n",
              "      <td>100</td>\n",
              "      <td>196</td>\n",
              "      <td>200</td>\n",
              "      <td>4</td>\n",
              "      <td>0.020101</td>\n",
              "    </tr>\n",
              "    <tr>\n",
              "      <th>20627</th>\n",
              "      <td>100</td>\n",
              "      <td>197</td>\n",
              "      <td>200</td>\n",
              "      <td>3</td>\n",
              "      <td>0.015075</td>\n",
              "    </tr>\n",
              "    <tr>\n",
              "      <th>20628</th>\n",
              "      <td>100</td>\n",
              "      <td>198</td>\n",
              "      <td>200</td>\n",
              "      <td>2</td>\n",
              "      <td>0.010050</td>\n",
              "    </tr>\n",
              "    <tr>\n",
              "      <th>20629</th>\n",
              "      <td>100</td>\n",
              "      <td>199</td>\n",
              "      <td>200</td>\n",
              "      <td>1</td>\n",
              "      <td>0.005025</td>\n",
              "    </tr>\n",
              "    <tr>\n",
              "      <th>20630</th>\n",
              "      <td>100</td>\n",
              "      <td>200</td>\n",
              "      <td>200</td>\n",
              "      <td>0</td>\n",
              "      <td>0.000000</td>\n",
              "    </tr>\n",
              "  </tbody>\n",
              "</table>\n",
              "<p>20631 rows × 5 columns</p>\n",
              "</div>"
            ],
            "text/plain": [
              "       unit  cycles  Total Cycles  RUL  Health Index\n",
              "0         1       1           192  191      1.000000\n",
              "1         1       2           192  190      0.994764\n",
              "2         1       3           192  189      0.989529\n",
              "3         1       4           192  188      0.984293\n",
              "4         1       5           192  187      0.979058\n",
              "...     ...     ...           ...  ...           ...\n",
              "20626   100     196           200    4      0.020101\n",
              "20627   100     197           200    3      0.015075\n",
              "20628   100     198           200    2      0.010050\n",
              "20629   100     199           200    1      0.005025\n",
              "20630   100     200           200    0      0.000000\n",
              "\n",
              "[20631 rows x 5 columns]"
            ]
          },
          "metadata": {
            "tags": []
          },
          "execution_count": 22
        }
      ]
    }
  ]
}