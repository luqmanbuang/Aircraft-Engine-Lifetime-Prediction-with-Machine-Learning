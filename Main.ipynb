{
  "nbformat": 4,
  "nbformat_minor": 0,
  "metadata": {
    "colab": {
      "name": "Copy of Main_Phase 2.ipynb",
      "provenance": [],
      "collapsed_sections": [],
      "authorship_tag": "ABX9TyP0YVtIxllJzQeVelJcTQiq"
    },
    "kernelspec": {
      "name": "python3",
      "display_name": "Python 3"
    }
  },
  "cells": [
    {
      "cell_type": "code",
      "metadata": {
        "id": "h0g8odVvjNyy",
        "outputId": "902dfe4a-c3ee-419a-c618-52abb6936441",
        "colab": {
          "base_uri": "https://localhost:8080/"
        }
      },
      "source": [
        "from google.colab import drive\n",
        "drive.mount(\"/content/gdrive\")"
      ],
      "execution_count": 1,
      "outputs": [
        {
          "output_type": "stream",
          "text": [
            "Mounted at /content/gdrive\n"
          ],
          "name": "stdout"
        }
      ]
    },
    {
      "cell_type": "markdown",
      "metadata": {
        "id": "aQdN0HGZ33oH"
      },
      "source": [
        "#1. The dataset\n",
        "\n",
        "Dataset is divided into training and test subsets consisting of multiple multivariate time series. Each time series is from a different engine unit – i.e., the data can be considered to be from a fleet of engines of the same type. Each engine unit starts with different degrees of initial wear and manufacturing variation which is unknown to the user. This wear and variation is considered normal, i.e., it is not considered a fault condition. There are three operational settings that have a substantial effect on engine performance. These settings are also included in the data. However in the dataset used in this project, df_FD001, the engines are ony sujected to a single operational setting and hence does not contribute to much degredation learning. Additionaly, the data is contaminated with sensor noise.\n",
        "<br>  \n",
        "The engine is operating normally at the start of each time series and is assumed to be at perfect health. It develops a fault at some point during the series. In the <ins>training set</ins>, the fault grows in magnitude until system failure. **In the test set, the time series ends some time prior to system failure.**\n",
        "<br>  \n",
        "The **objective of this project is to predict the number of remaining operational cycles before failure in the test set**, i.e., the number of operational cycles after the last cycle that the engine will continue to operate. A vector of the actual Remaining Useful Life (RUL) values for the test data is available and will be used to compare the accuracy of the prediction model.  \n",
        "<br> \n",
        "The screenshot below shows the first five rows of engine unit 1. Each row represents a screenshot of the same engine unit (unit 1) at different times — called cycles. In the test and train dataset, there are 100 of such engine units varying numbers of cycles each. 21 columns representing data from 21 different engine sensors are included along each row. For simplicity, these sensors are called sensors S1 to S21. For example, Sensor 1 is the sensor that detects the total temperature at the fan inlet while Sensors 8 and 9 are the sensors that track the engine fan and core speed in RPM.\n",
        "<br>  \n",
        "![Dataset example](https://drive.google.com/uc?id=1hEt0xMQv-6IOwO1A5kMkbL8wkPIBlkcX) \n",
        "<br>  \n",
        "Degredation of the engine health throughout the time series can be observed by by observing the data output by the sensors in each cycles. (explain how some sensor will increase some will decrease, put picture) (The sensor data contained in this dataset is cruicial in learning the degredation) \n",
        "<br>  "
      ]
    },
    {
      "cell_type": "markdown",
      "metadata": {
        "id": "B8yHCkKor8Bl"
      },
      "source": [
        "##1.1. Importing and preprocessing the dataset\n",
        "Firstly, both the train and test datasets are uploaded into the notebook and preprocessed to prepare it for the machine learning process. Unecessary data mostly such as sensors with flatline datas are removed. Constant sensor measurements such as Op3, S1, S5, S6, S9, S16, S10, S18, S19 does not provide any useful degradation information for the RUL predictions. The two datasets are then combined together for feature scaling using sklearn.preprocessing.MinMaxScaler() such that its features lie between between zero and one, and after which they are split again.\n",
        "\n",
        "![Dataset example](https://drive.google.com/uc?id=1JMP_FgtpRi8dx3MO441snXgc18phsOt_)"
      ]
    },
    {
      "cell_type": "code",
      "metadata": {
        "id": "hLmKeK4fjGas"
      },
      "source": [
        "import matplotlib.pyplot as plt\n",
        "import pandas as pd\n",
        "import warnings \n",
        "warnings.filterwarnings('ignore')\n",
        "from sklearn.preprocessing import MinMaxScaler\n",
        "\n",
        "#Importing both test and train datasets\n",
        "df_test_FD001 = pd.read_csv('/content/gdrive/My Drive/Capstone/test_FD001.txt', sep=' ', header=None)\n",
        "df_train_FD001 = pd.read_csv('/content/gdrive/My Drive/Capstone/train_FD001.txt', sep=' ', header=None)\n",
        "\n",
        "\n",
        "# dropping NAN values\n",
        "df_test_FD001 = df_test_FD001.dropna(axis=1, how='all')\n",
        "df_train_FD001 = df_train_FD001.dropna(axis=1, how='all')\n",
        "\n",
        "# Naming the columns\n",
        "df_test_FD001.columns = [\"unit\", \"cycles\", \"Op1\",\n",
        "                      \"Op2\", \"Op3\", \"S1\", \"S2\",\n",
        "                      \"S3\", \"S4\", \"S5\", \"S6\", \"S7\", \"S8\", \"S9\", \"S10\", \"S11\",\n",
        "                      \"S12\", \"S13\", \"S14\", \"S15\", \"S16\", \"S17\", \"S18\", \"S19\", \"S20\", \"S21\"]\n",
        "\n",
        "df_train_FD001.columns = [\"unit\", \"cycles\", \"Op1\",\n",
        "                      \"Op2\", \"Op3\", \"S1\", \"S2\",\n",
        "                      \"S3\", \"S4\", \"S5\", \"S6\", \"S7\", \"S8\", \"S9\", \"S10\", \"S11\",\n",
        "                      \"S12\", \"S13\", \"S14\", \"S15\", \"S16\", \"S17\", \"S18\", \"S19\", \"S20\", \"S21\"]\n",
        "\n",
        "# data preprocessing; removing unnecessary data\n",
        "df_test_FD001.drop(['Op3','S1', 'S5', 'S6', 'S9', 'S16', 'S10', 'S18', 'S19'], axis=1, inplace=True)\n",
        "df_train_FD001.drop(['Op3','S1', 'S5', 'S6', 'S9', 'S16', 'S10', 'S18', 'S19'], axis=1, inplace=True)\n",
        "\n",
        "# test dataset begins with unit 101 to differentiate from the train dataset\n",
        "df_test_FD001['unit'] += 100\n",
        "\n",
        "# Combine the two datasets into a single dataframe\n",
        "df_combined = pd.concat([df_train_FD001, df_test_FD001]) \n",
        "\n",
        "# Perform scalling on the the combined dataset so that their scale is the same\n",
        "scaler = MinMaxScaler()\n",
        "df_combined.iloc[:,2:18] = scaler.fit_transform(df_combined.iloc[:,2:18])\n",
        "\n",
        "# Split them again after performing scalling\n",
        "df_train_FD001 = df_combined[(df_combined.unit <= 100)]\n",
        "df_test_FD001 = df_combined[(df_combined.unit >= 101)]\n",
        "\n",
        "# After separation, the first unit of the test dataset is reset to 0 again\n",
        "df_test_FD001['unit'] -= 100"
      ],
      "execution_count": 2,
      "outputs": []
    },
    {
      "cell_type": "code",
      "metadata": {
        "id": "GE1erXGvNtlG",
        "outputId": "4c114de9-7ae4-401b-eda5-f2710313c2c2",
        "colab": {
          "base_uri": "https://localhost:8080/",
          "height": 204
        }
      },
      "source": [
        "df_train_FD001.iloc[:,0:].head()"
      ],
      "execution_count": 3,
      "outputs": [
        {
          "output_type": "execute_result",
          "data": {
            "text/html": [
              "<div>\n",
              "<style scoped>\n",
              "    .dataframe tbody tr th:only-of-type {\n",
              "        vertical-align: middle;\n",
              "    }\n",
              "\n",
              "    .dataframe tbody tr th {\n",
              "        vertical-align: top;\n",
              "    }\n",
              "\n",
              "    .dataframe thead th {\n",
              "        text-align: right;\n",
              "    }\n",
              "</style>\n",
              "<table border=\"1\" class=\"dataframe\">\n",
              "  <thead>\n",
              "    <tr style=\"text-align: right;\">\n",
              "      <th></th>\n",
              "      <th>unit</th>\n",
              "      <th>cycles</th>\n",
              "      <th>Op1</th>\n",
              "      <th>Op2</th>\n",
              "      <th>Op3</th>\n",
              "      <th>S1</th>\n",
              "      <th>S2</th>\n",
              "      <th>S3</th>\n",
              "      <th>S4</th>\n",
              "      <th>S5</th>\n",
              "      <th>S6</th>\n",
              "      <th>S7</th>\n",
              "      <th>S8</th>\n",
              "      <th>S9</th>\n",
              "      <th>S10</th>\n",
              "      <th>S11</th>\n",
              "      <th>S12</th>\n",
              "      <th>S13</th>\n",
              "      <th>S14</th>\n",
              "      <th>S15</th>\n",
              "      <th>S16</th>\n",
              "      <th>S17</th>\n",
              "      <th>S18</th>\n",
              "      <th>S19</th>\n",
              "      <th>S20</th>\n",
              "      <th>S21</th>\n",
              "    </tr>\n",
              "  </thead>\n",
              "  <tbody>\n",
              "    <tr>\n",
              "      <th>0</th>\n",
              "      <td>1</td>\n",
              "      <td>1</td>\n",
              "      <td>-0.0007</td>\n",
              "      <td>-0.0004</td>\n",
              "      <td>100.0</td>\n",
              "      <td>518.67</td>\n",
              "      <td>641.82</td>\n",
              "      <td>1589.70</td>\n",
              "      <td>1400.60</td>\n",
              "      <td>14.62</td>\n",
              "      <td>21.61</td>\n",
              "      <td>554.36</td>\n",
              "      <td>2388.06</td>\n",
              "      <td>9046.19</td>\n",
              "      <td>1.3</td>\n",
              "      <td>47.47</td>\n",
              "      <td>521.66</td>\n",
              "      <td>2388.02</td>\n",
              "      <td>8138.62</td>\n",
              "      <td>8.4195</td>\n",
              "      <td>0.03</td>\n",
              "      <td>392</td>\n",
              "      <td>2388</td>\n",
              "      <td>100.0</td>\n",
              "      <td>39.06</td>\n",
              "      <td>23.4190</td>\n",
              "    </tr>\n",
              "    <tr>\n",
              "      <th>1</th>\n",
              "      <td>1</td>\n",
              "      <td>2</td>\n",
              "      <td>0.0019</td>\n",
              "      <td>-0.0003</td>\n",
              "      <td>100.0</td>\n",
              "      <td>518.67</td>\n",
              "      <td>642.15</td>\n",
              "      <td>1591.82</td>\n",
              "      <td>1403.14</td>\n",
              "      <td>14.62</td>\n",
              "      <td>21.61</td>\n",
              "      <td>553.75</td>\n",
              "      <td>2388.04</td>\n",
              "      <td>9044.07</td>\n",
              "      <td>1.3</td>\n",
              "      <td>47.49</td>\n",
              "      <td>522.28</td>\n",
              "      <td>2388.07</td>\n",
              "      <td>8131.49</td>\n",
              "      <td>8.4318</td>\n",
              "      <td>0.03</td>\n",
              "      <td>392</td>\n",
              "      <td>2388</td>\n",
              "      <td>100.0</td>\n",
              "      <td>39.00</td>\n",
              "      <td>23.4236</td>\n",
              "    </tr>\n",
              "    <tr>\n",
              "      <th>2</th>\n",
              "      <td>1</td>\n",
              "      <td>3</td>\n",
              "      <td>-0.0043</td>\n",
              "      <td>0.0003</td>\n",
              "      <td>100.0</td>\n",
              "      <td>518.67</td>\n",
              "      <td>642.35</td>\n",
              "      <td>1587.99</td>\n",
              "      <td>1404.20</td>\n",
              "      <td>14.62</td>\n",
              "      <td>21.61</td>\n",
              "      <td>554.26</td>\n",
              "      <td>2388.08</td>\n",
              "      <td>9052.94</td>\n",
              "      <td>1.3</td>\n",
              "      <td>47.27</td>\n",
              "      <td>522.42</td>\n",
              "      <td>2388.03</td>\n",
              "      <td>8133.23</td>\n",
              "      <td>8.4178</td>\n",
              "      <td>0.03</td>\n",
              "      <td>390</td>\n",
              "      <td>2388</td>\n",
              "      <td>100.0</td>\n",
              "      <td>38.95</td>\n",
              "      <td>23.3442</td>\n",
              "    </tr>\n",
              "    <tr>\n",
              "      <th>3</th>\n",
              "      <td>1</td>\n",
              "      <td>4</td>\n",
              "      <td>0.0007</td>\n",
              "      <td>0.0000</td>\n",
              "      <td>100.0</td>\n",
              "      <td>518.67</td>\n",
              "      <td>642.35</td>\n",
              "      <td>1582.79</td>\n",
              "      <td>1401.87</td>\n",
              "      <td>14.62</td>\n",
              "      <td>21.61</td>\n",
              "      <td>554.45</td>\n",
              "      <td>2388.11</td>\n",
              "      <td>9049.48</td>\n",
              "      <td>1.3</td>\n",
              "      <td>47.13</td>\n",
              "      <td>522.86</td>\n",
              "      <td>2388.08</td>\n",
              "      <td>8133.83</td>\n",
              "      <td>8.3682</td>\n",
              "      <td>0.03</td>\n",
              "      <td>392</td>\n",
              "      <td>2388</td>\n",
              "      <td>100.0</td>\n",
              "      <td>38.88</td>\n",
              "      <td>23.3739</td>\n",
              "    </tr>\n",
              "    <tr>\n",
              "      <th>4</th>\n",
              "      <td>1</td>\n",
              "      <td>5</td>\n",
              "      <td>-0.0019</td>\n",
              "      <td>-0.0002</td>\n",
              "      <td>100.0</td>\n",
              "      <td>518.67</td>\n",
              "      <td>642.37</td>\n",
              "      <td>1582.85</td>\n",
              "      <td>1406.22</td>\n",
              "      <td>14.62</td>\n",
              "      <td>21.61</td>\n",
              "      <td>554.00</td>\n",
              "      <td>2388.06</td>\n",
              "      <td>9055.15</td>\n",
              "      <td>1.3</td>\n",
              "      <td>47.28</td>\n",
              "      <td>522.19</td>\n",
              "      <td>2388.04</td>\n",
              "      <td>8133.80</td>\n",
              "      <td>8.4294</td>\n",
              "      <td>0.03</td>\n",
              "      <td>393</td>\n",
              "      <td>2388</td>\n",
              "      <td>100.0</td>\n",
              "      <td>38.90</td>\n",
              "      <td>23.4044</td>\n",
              "    </tr>\n",
              "  </tbody>\n",
              "</table>\n",
              "</div>"
            ],
            "text/plain": [
              "   unit  cycles     Op1     Op2    Op3  ...  S17   S18    S19    S20      S21\n",
              "0     1       1 -0.0007 -0.0004  100.0  ...  392  2388  100.0  39.06  23.4190\n",
              "1     1       2  0.0019 -0.0003  100.0  ...  392  2388  100.0  39.00  23.4236\n",
              "2     1       3 -0.0043  0.0003  100.0  ...  390  2388  100.0  38.95  23.3442\n",
              "3     1       4  0.0007  0.0000  100.0  ...  392  2388  100.0  38.88  23.3739\n",
              "4     1       5 -0.0019 -0.0002  100.0  ...  393  2388  100.0  38.90  23.4044\n",
              "\n",
              "[5 rows x 26 columns]"
            ]
          },
          "metadata": {
            "tags": []
          },
          "execution_count": 3
        }
      ]
    },
    {
      "cell_type": "markdown",
      "metadata": {
        "id": "diT_KsXE3e4H"
      },
      "source": [
        "#2. Remaining Useful Life (RUL)\n",
        "The Remaining Useful Life of an engine unit at any point of the time series is calculated by subtracting the number of cycles where the engine stops oprating (the maximum number of cycles), to the number cycle at the current point of the time series. This value represents the amount of cycles remaining before engine failure. \n",
        "\n",
        "![RUL calculation](https://drive.google.com/uc?id=1s7fUkUWxOl1DI4DHqvncyUt8xO3ZMRg8)\n",
        "\n",
        "\n",
        "# Health Index (H.I.)\n",
        "After the RUL is established, the value can be used to calculate the health index of the engine. The health index of the engine represents the state of the engine's health where values closer to one represents a healthier engine and values closer to 0 signifies that the engine reaching the end of its operational life. The health index is caculated by dividing the the current cycle of the time series by the maximum cycles of the unit. *For example, calculating the H.I of an engine at its very first cycle where it is at best health returns a value of one as the RUL of the engine at the first cycle is also equals to the maximum cycles of the engine.*\n",
        " \n",
        "![HI calculation](https://drive.google.com/uc?id=1Zbk_7BXxpUSJWeA2JppKUnvlXF9-E8vV)"
      ]
    },
    {
      "cell_type": "code",
      "metadata": {
        "id": "skiWkIBN3PHQ"
      },
      "source": [
        "# Finding the maximum cycle of an engine unit which is used to find its Remaining Useful Life (RUL)\n",
        "df_train_FD001 = pd.merge(df_train_FD001, df_train_FD001.groupby('unit', as_index=False)['cycles'].max(), how='left', on='unit')\n",
        "df_train_FD001.rename(columns={\"cycles_x\": \"cycles\", \"cycles_y\": \"Total Cycles\"}, inplace=True)\n",
        "\n",
        "df_train_FD001['RUL'] = df_train_FD001['Total Cycles'] - df_train_FD001['cycles']\n",
        "\n",
        "# Defining the Health Index, where value of 1 denotes healthy engine and 0 denotes failure\n",
        "def HealthIndex(dataFrame,q):\n",
        "    return(dataFrame.RUL[q]-dataFrame.RUL.min()) / (dataFrame.RUL.max()-dataFrame.RUL.min())\n",
        "\n",
        "healthIndex_q = []\n",
        "healthIndex = []\n",
        "\n",
        "for i in range(df_train_FD001['unit'].min(), df_train_FD001['unit'].max() + 1):\n",
        "    dataFrame = df_train_FD001[df_train_FD001.unit == i]\n",
        "    dataFrame = dataFrame.reset_index(drop = True)\n",
        "    for q in range(len(dataFrame)):\n",
        "        healthIndex_q = HealthIndex(dataFrame, q)\n",
        "        healthIndex.append(healthIndex_q)\n",
        "\n",
        "df_train_FD001['Health Index'] = healthIndex"
      ],
      "execution_count": null,
      "outputs": []
    },
    {
      "cell_type": "markdown",
      "metadata": {
        "id": "Wh0BHDHSqyPE"
      },
      "source": [
        "#3. Defining test and train data\n",
        "##3.1 train data\n",
        "Sensor data values from the **train dataset** are defined as X_train and the Health Index that was calculated in the earlier section defined as y_train. The X_train and y_train data will be used to fit and train the machine learning models.  \n",
        "<br>\n",
        "##3.2 test data\n",
        "Sensor data values from the **test dataset** is defined as X_test. X_test is passed into the trained machine learning model which returns a prediction of engines' Health Index."
      ]
    },
    {
      "cell_type": "code",
      "metadata": {
        "id": "IeYJ9C9I_YVC"
      },
      "source": [
        "# Defining train values that will be used to train the machine learning model\n",
        "X_train = df_train_FD001[['cycles', 'Op1', 'Op2', 'S2', 'S3', 'S4', 'S7', 'S8', 'S11', 'S12',\n",
        "          'S13', 'S14', 'S15', 'S17', 'S20', 'S21']].values\n",
        "y_train = df_train_FD001[['Health Index']].values.ravel()\n",
        "\n",
        "# Defining test values that will be used to perform prediction based on the trained model\n",
        "X_test = df_test_FD001[['cycles', 'Op1', 'Op2', 'S2', 'S3', 'S4', 'S7', 'S8', 'S11', 'S12',\n",
        "          'S13', 'S14', 'S15', 'S17', 'S20', 'S21']].values"
      ],
      "execution_count": null,
      "outputs": []
    },
    {
      "cell_type": "markdown",
      "metadata": {
        "id": "MqXcbA573cVk"
      },
      "source": [
        "#4. Machine Learning Models\n",
        "For this project, three machine learning models are used to predict the RUL of an engine.  \n",
        "The models used are: 1) Linear Regression 2) K Nearest Neighbour 3) Simple Neural Network model."
      ]
    },
    {
      "cell_type": "markdown",
      "metadata": {
        "id": "gWnewBJrrSqX"
      },
      "source": [
        "## 4.1. Linear Regression model\n",
        "~ insert text here ~"
      ]
    },
    {
      "cell_type": "code",
      "metadata": {
        "id": "UQtvppGFFnAZ"
      },
      "source": [
        "from sklearn.linear_model import LinearRegression\n",
        "lreg_model = LinearRegression()\n",
        "lreg_model.fit(X_train,y_train)\n"
      ],
      "execution_count": null,
      "outputs": []
    },
    {
      "cell_type": "markdown",
      "metadata": {
        "id": "lOS1RHTIrdHO"
      },
      "source": [
        "## 4.2. KNN Regressor Model\n",
        "~ insert text here ~"
      ]
    },
    {
      "cell_type": "code",
      "metadata": {
        "id": "ntfsVqLYLN7g"
      },
      "source": [
        "from sklearn.neighbors import KNeighborsRegressor\n",
        "\n",
        "knr_model = KNeighborsRegressor(n_neighbors=10)\n",
        "knr_model.fit(X_train, y_train)"
      ],
      "execution_count": null,
      "outputs": []
    },
    {
      "cell_type": "markdown",
      "metadata": {
        "id": "YGb3P3Pmr0A-"
      },
      "source": [
        "## 4.3. Neural Network Model\n",
        "~ insert text here ~"
      ]
    },
    {
      "cell_type": "code",
      "metadata": {
        "id": "q3fyiFRb-4ik"
      },
      "source": [
        "# # Importing keras deep learning API into colab notebook\n",
        "# from keras.models import Sequential\n",
        "# from keras.layers.core import Dense, Activation\n",
        "# from keras.wrappers.scikit_learn import KerasRegressor\n",
        "\n",
        "# # Defining Neural Network model\n",
        "# nn_model = Sequential()\n",
        "# nn_model.add(Dense(50, input_dim=16, kernel_initializer='normal', activation='relu'))\n",
        "# nn_model.add(Dense(1, activation='relu'))\n",
        "\n",
        "# # Compiling model\n",
        "# nn_model.compile(loss='mean_squared_error', optimizer='adam')\n",
        "\n",
        "# # Training the Neural Network model\n",
        "# nn_model.fit(X_train, y_train, epochs = 55, shuffle=True, verbose = 0)"
      ],
      "execution_count": null,
      "outputs": []
    },
    {
      "cell_type": "markdown",
      "metadata": {
        "id": "6eRNluPBHOii"
      },
      "source": [
        "## 4.4. Saved Neural Network Model\n",
        "Alternatively, accurate Neural Network models from previous tests was saved and can be uploaded again to retrieve an accurate prediction."
      ]
    },
    {
      "cell_type": "code",
      "metadata": {
        "id": "jzahZhS-FnG3"
      },
      "source": [
        "import keras\n",
        "\n",
        "# from tensorflow import keras\n",
        "nn_model = keras.models.load_model('/content/gdrive/My Drive/Capstone/BestModel')"
      ],
      "execution_count": null,
      "outputs": []
    },
    {
      "cell_type": "markdown",
      "metadata": {
        "id": "fLk8CODSSkHM"
      },
      "source": [
        "#5. MachineLearningModel() class and its methods\n",
        "The MachineLearningModel() class is created to reduce code duplication when multiple machine learning models are used to predict the engine degredation and RUL."
      ]
    },
    {
      "cell_type": "code",
      "metadata": {
        "id": "UgD3Oxr9B9MW"
      },
      "source": [
        "from sklearn.metrics import mean_squared_error, r2_score\n",
        "\n",
        "class MachineLearningModel:\n",
        "  def __init__(self,model,name,testDataFrame, X_test, OutputDataFrame = None):\n",
        "    self.model = model\n",
        "    self.name = name\n",
        "    self.testDataFrame = testDataFrame\n",
        "    self.X_test = X_test\n",
        "\n",
        "    # Values of the predictions and calculations are stored in the test dataframe by default unless an alternate dataframe is specified \n",
        "    if OutputDataFrame is not None:\n",
        "      self.OutputDataFrame = OutputDataFrame\n",
        "    else:\n",
        "      self.OutputDataFrame = self.testDataFrame\n",
        "    \n",
        "\n",
        "  def predict(self):    \n",
        "    # Function predicts the Health Index values based on the trained machine learning model.\n",
        "    Prediction = self.model.predict(self.X_test)\n",
        "\n",
        "    # The predicted H.I. values are appended into the dataframe \n",
        "    self.OutputDataFrame[f'Pred_H.I._{self.name}'] = Prediction\n",
        "\n",
        "    # Calculating the predicted maximum cycle of the engine units      \n",
        "    self.OutputDataFrame[f'PredMaxCycles_{self.name}'] = self.OutputDataFrame['cycles'] / (1 - self.OutputDataFrame[f'Pred_H.I._{self.name}'])\n",
        "\n",
        "  def PlotPredMaxCycles(self,displayUnit=1):\n",
        "    # Returning the average maximum cycle value of a particular engine unit\n",
        "    df = self.OutputDataFrame[f'PredMaxCycles_{self.name}']\n",
        "    meanValue = df[(self.OutputDataFrame['unit'] == displayUnit)][-10:].mean()\n",
        "    print(f'Mean value of last 10 cycles of engine unit {displayUnit}: {meanValue}') \n",
        "\n",
        "    # plotting the predicted maximum cycles\n",
        "    plt.figure(figsize = (16, 8)) \n",
        "    plt.plot(df[(self.OutputDataFrame['cycles'] >0) & (self.OutputDataFrame['unit'] == displayUnit)])\n",
        "    plt.axhline(meanValue, color=\"red\", linestyle='dashed', linewidth=1.6)\n",
        "\n",
        "    # set title and axis labels\n",
        "    errorDist = plt.title(f'Predicted Maximum Cycles of engine unit {displayUnit}', x=0.5, y=1.05, ha='center', fontsize='xx-large')\n",
        "    plt.setp(errorDist, color='black')\n",
        "\n",
        "  def DataFrame(self, remove_sensor_data=False):\n",
        "    # function returns dataframe\n",
        "    droppedColumns = ['Op1', 'Op2', 'S2', 'S3', 'S4', 'S7', 'S8', 'S11', 'S12',\n",
        "          'S13', 'S14', 'S15', 'S17', 'S20', 'S21']\n",
        "    if remove_sensor_data == True:\n",
        "      self.OutputDataFrame.drop(droppedColumns, axis=1, errors='ignore', inplace=True)\n",
        "    return self.OutputDataFrame\n",
        "\n",
        "  def CalcPredMaxCycles(self):\n",
        "    df = self.OutputDataFrame[f'PredMaxCycles_{self.name}']\n",
        "\n",
        "    # Returns a uniform PredMaxCycles based on the calculated average of the last 10 cycles \n",
        "    for i in range(self.OutputDataFrame['unit'].min(), self.OutputDataFrame['unit'].max() + 1):\n",
        "        df[(self.OutputDataFrame['unit'] == i)] = df[(self.OutputDataFrame['unit'] == i)][-10:].mean()\n",
        "  \n",
        "  def CalcPredRUL(self):\n",
        "    self.OutputDataFrame[[f'Pred_RUL_{self.name}']] = self.OutputDataFrame[f'PredMaxCycles_{self.name}'] * self.OutputDataFrame[f'Pred_H.I._{self.name}']\n",
        "\n",
        "    # Appending the RUL values of each engine unit into an array\n",
        "    df =  self.OutputDataFrame[f'Pred_RUL_{self.name}']\n",
        "    maxpred = []\n",
        "    for i in range(1,101):\n",
        "      maxpred.append(df[(self.OutputDataFrame['unit'] == i)].min())\n",
        "    return maxpred  \n",
        "\n",
        "  def PlotRUL(self):\n",
        "      # Visualizing the predicted cycles of the engine units in the test dataset.\n",
        "      # x-axis represents the cycles\n",
        "      df =  self.OutputDataFrame[f'Pred_RUL_{self.name}']\n",
        "      plt.figure(figsize = (16, 8)) \n",
        "      plt.plot(df)\n",
        "\n",
        "      # set title and axis labels\n",
        "      plt.title(f'Predicted Remaining Useful Life for {self.name}', x=0.5, y=1.05, ha='center', fontsize='xx-large')\n",
        "      \n",
        "\n",
        "  def DisplayEngineRUL(self, displayUnit):\n",
        "    # Returning the Remaining useful life of an engine unit of the test dataset.\n",
        "    # It is found by returning the minumum cycle to failure value of each engine unit\n",
        "    df =  self.OutputDataFrame[f'Pred_RUL_{self.name}'] \n",
        "    value = df[(self.OutputDataFrame['unit'] == displayUnit)].min()\n",
        "    print(f'Predicted RUL of unit {displayUnit}: {value}')\n",
        "\n",
        "  def GetRMSE(self,actual,predicted):\n",
        "    # Calculating the Root Mean Square Error of the actual and predicted values\n",
        "    RMSE = mean_squared_error(actual, predicted, squared=False)\n",
        "    return RMSE\n"
      ],
      "execution_count": null,
      "outputs": []
    },
    {
      "cell_type": "markdown",
      "metadata": {
        "id": "2PWeqCVoha46"
      },
      "source": [
        "The Results Dataframe is created where the results of the predictions and calculation for each ML models are stored. "
      ]
    },
    {
      "cell_type": "code",
      "metadata": {
        "id": "0QotaKxff_MC"
      },
      "source": [
        "Results = df_test_FD001[['unit', 'cycles']]"
      ],
      "execution_count": null,
      "outputs": []
    },
    {
      "cell_type": "markdown",
      "metadata": {
        "id": "mVY9Hjd5FVue"
      },
      "source": [
        "#6. Prediction\n",
        "Using the MachineLearning classes that was created earlier, the prediction of the three different models can be made without much code duplication. In this"
      ]
    },
    {
      "cell_type": "markdown",
      "metadata": {
        "id": "NA7zloFeHtr2"
      },
      "source": [
        "##6.1 Neural Network model prediction\n",
        "The test data is predicted using the linear regression model. With the predict() method, the X_test values"
      ]
    },
    {
      "cell_type": "code",
      "metadata": {
        "id": "XNE3kjHBSX62"
      },
      "source": [
        "NeuralNetwork = MachineLearningModel(nn_model, 'nn', df_test_FD001, X_test, Results)\n",
        "NeuralNetwork.predict()"
      ],
      "execution_count": null,
      "outputs": []
    },
    {
      "cell_type": "markdown",
      "metadata": {
        "id": "puGa0DE4IEPE"
      },
      "source": [
        "By displaying the last five rows of the dataframe, the predicted RUL of unit 100 based can be calculated by subtracting the final cycle with the predicted maximum cycle (198 - 222) which returns a value of 19. In other words, this means that it is predicted that the engine's operational life will end in approximately 24 cycles."
      ]
    },
    {
      "cell_type": "code",
      "metadata": {
        "id": "sSZPe7RUw4zk"
      },
      "source": [
        "# displaying the last 5 rows of the dataframe\n",
        "NeuralNetwork.DataFrame(True).tail()"
      ],
      "execution_count": null,
      "outputs": []
    },
    {
      "cell_type": "markdown",
      "metadata": {
        "id": "_49S9x0K1lKS"
      },
      "source": [
        "\n",
        "Taking unit 20 for example, it is observed that the value of the predicted maximum cycles throughout the timeseries is noisy and unstable. In a perfect world this should not happen as the maximum cycles should be same throughout. As a result, in this project the average value of the last ten cycles is used to represent the predicted maximum cycle of the entire engine unit. For the purpose of this project, these average values are refered as the adjusted predicted maximum cycles. For the example plotted below, the dotted line represent the averaged value used.  \n",
        "\n",
        "Also below is a snippet of the code used to determine this average value used in the MachineLearningModel.PlotPredMaxCycles(displayUnit = 1) method.    \n",
        "```\n",
        "df = self.OutputDataFrame[f'PredMaxCycles_{self.name}']\n",
        "meanValue = df[(self.OutputDataFrame['unit'] == displayUnit)][-10:].mean()\n",
        "```\n",
        "\n"
      ]
    },
    {
      "cell_type": "code",
      "metadata": {
        "id": "bRsgHnByzqTc"
      },
      "source": [
        "NeuralNetwork.PlotPredMaxCycles(20)\n",
        "NeuralNetwork.CalcPredMaxCycles()"
      ],
      "execution_count": null,
      "outputs": []
    },
    {
      "cell_type": "markdown",
      "metadata": {
        "id": "fi1kaLstYeBm"
      },
      "source": [
        "After averaging the predicted maximum cycles' values, we can see that it's values are now stable throughout the timeseries."
      ]
    },
    {
      "cell_type": "code",
      "metadata": {
        "id": "GWVzHNSFY5Ft"
      },
      "source": [
        "NeuralNetwork.PlotPredMaxCycles(20)"
      ],
      "execution_count": null,
      "outputs": []
    },
    {
      "cell_type": "markdown",
      "metadata": {
        "id": "U6SsehVKZCWN"
      },
      "source": [
        "With the values of the Predicted Maximum cycles averaged and stable throughout the timeseries, the Predicted RUL can now be calculated by multiplying the Predicted Maximum cycles with the Predicted Health Index.\n",
        "\n"
      ]
    },
    {
      "cell_type": "code",
      "metadata": {
        "id": "58qAUexCW9ue"
      },
      "source": [
        "RUL_nn = NeuralNetwork.CalcPredRUL()\n",
        "NeuralNetwork.DataFrame()"
      ],
      "execution_count": null,
      "outputs": []
    },
    {
      "cell_type": "code",
      "metadata": {
        "id": "oqC5nuo4dru0"
      },
      "source": [
        "NeuralNetwork.PlotRUL()"
      ],
      "execution_count": null,
      "outputs": []
    },
    {
      "cell_type": "markdown",
      "metadata": {
        "id": "L7qv8uNeCkx9"
      },
      "source": [
        "## 6.2 K Nearest Neighbour Regressor prediction"
      ]
    },
    {
      "cell_type": "code",
      "metadata": {
        "id": "PD83yAOwT5r9"
      },
      "source": [
        "KNRegressor = MachineLearningModel(knr_model, 'knr', df_test_FD001, X_test, Results)\n",
        "KNRegressor.predict()\n",
        "KNRegressor.CalcPredMaxCycles()\n",
        "RUL_knr = KNRegressor.CalcPredRUL()\n",
        "KNRegressor.DataFrame()[['unit', 'cycles', 'Pred_H.I._knr', 'PredMaxCycles_knr', 'Pred_RUL_knr']]"
      ],
      "execution_count": null,
      "outputs": []
    },
    {
      "cell_type": "markdown",
      "metadata": {
        "id": "RsZsXIx_dCW5"
      },
      "source": [
        "##6.3 Linear regression model prediction"
      ]
    },
    {
      "cell_type": "code",
      "metadata": {
        "id": "WxZ5rHMa1waq"
      },
      "source": [
        "LinearRegression = MachineLearningModel(lreg_model, 'lreg', df_test_FD001, X_test, Results)\n",
        "LinearRegression.predict()\n",
        "LinearRegression.CalcPredMaxCycles()\n",
        "RUL_lreg = LinearRegression.CalcPredRUL()\n",
        "LinearRegression.DataFrame()[['unit', 'cycles', 'Pred_H.I._nn', 'PredMaxCycles_nn', 'Pred_RUL_nn']]"
      ],
      "execution_count": null,
      "outputs": []
    },
    {
      "cell_type": "markdown",
      "metadata": {
        "id": "C-gvGr7gdRHt"
      },
      "source": [
        "#7. Results and observation"
      ]
    },
    {
      "cell_type": "code",
      "metadata": {
        "id": "36jBGMiB4J-W"
      },
      "source": [
        "Results"
      ],
      "execution_count": null,
      "outputs": []
    },
    {
      "cell_type": "code",
      "metadata": {
        "id": "Bq_3enGq8Ljd"
      },
      "source": [
        "FinalResult = pd.read_csv('/content/gdrive/My Drive/Capstone/RUL_FD001.txt', sep=' ', header=None)\n",
        "FinalResult = FinalResult.dropna(axis=1, how='all')\n",
        "FinalResult.columns = [\"Actual RUL\"]\n",
        "\n",
        "unit = []\n",
        "for i in range(1,101):\n",
        "  unit.append(i)\n",
        "\n",
        "FinalResult['unit'] = unit\n",
        "FinalResult = FinalResult[['unit', 'Actual RUL']]\n",
        "\n",
        "FinalResult['Pred_RUL_lreg'] = RUL_lreg\n",
        "FinalResult['lreg_diff'] = FinalResult['Actual RUL'] - FinalResult['Pred_RUL_lreg']\n",
        "\n",
        "FinalResult['Pred_RUL_knr'] = RUL_knr\n",
        "FinalResult['knr_diff'] = FinalResult['Actual RUL'] - FinalResult['Pred_RUL_knr']\n",
        "\n",
        "FinalResult['Pred_RUL_nn'] = RUL_nn\n",
        "FinalResult['nn_diff'] = FinalResult['Actual RUL'] - FinalResult['Pred_RUL_nn']\n",
        "\n",
        "FinalResult"
      ],
      "execution_count": null,
      "outputs": []
    },
    {
      "cell_type": "markdown",
      "metadata": {
        "id": "bCfXk-HzyEJe"
      },
      "source": [
        "# Root Mean Square Error (RMSE)\n",
        "RMSE is calculated by taking the square root of the average of the squared differences between the actual and predicted values. This value is able to represent the estimation of the the standard deviation σ of a typical observed value from the model’s prediction. \n",
        "\n",
        "![RMSE calculation](https://miro.medium.com/max/725/1*lqDsPkfXPGen32Uem1PTNg.png) "
      ]
    },
    {
      "cell_type": "code",
      "metadata": {
        "id": "_87h2Jw0yDy5"
      },
      "source": [
        "RMSE_nn = NeuralNetwork.GetRMSE(FinalResult['Actual RUL'], FinalResult['Pred_RUL_nn'])\n",
        "RMSE_knr = KNRegressor.GetRMSE(FinalResult['Actual RUL'], FinalResult['Pred_RUL_knr'])\n",
        "RMSE_lreg = LinearRegression.GetRMSE(FinalResult['Actual RUL'], FinalResult['Pred_RUL_lreg'])\n",
        "\n",
        "print('Neural Network RMSE:', RMSE_nn)\n",
        "print('K Nearest Neighbour RMSE:', RMSE_knr)\n",
        "print('Linear Regression RMSE:', RMSE_lreg)"
      ],
      "execution_count": null,
      "outputs": []
    },
    {
      "cell_type": "markdown",
      "metadata": {
        "id": "5Ppjo86lfr8V"
      },
      "source": [
        "# Error Distribution\n",
        "Plotting the absolute error distribution of the models below, it is observed that the error distribution for all three models are shifted towards the left. This means that there is tendancy for the predicted RUL values to overshoot the actual values. "
      ]
    },
    {
      "cell_type": "code",
      "metadata": {
        "id": "dl4oBRaHIoqI"
      },
      "source": [
        "plt.figure(figsize=(20,10))\n",
        "plt.tight_layout()\n",
        "\n",
        "FinalResult['lreg_diff'].plot(label = 'Linear Regression', kind = 'kde', legend = True)\n",
        "FinalResult['knr_diff'].plot(label = 'K Nearest Neighbour', kind = 'kde', legend = True)\n",
        "FinalResult['nn_diff'].plot(label = 'Neural Network', kind = 'kde', legend = True)\n",
        "plt.axvline(0, color=\"black\", linestyle='dashed', linewidth=1.6)\n",
        "\n",
        "# set title and axis labels\n",
        "errorDist = plt.title('Error distribution', x=0.5, y=1.05, ha='center', fontsize='30')\n",
        "plt.setp(errorDist, color = 'black')\n",
        "\n",
        "plt.show()"
      ],
      "execution_count": null,
      "outputs": []
    }
  ]
}